{
 "cells": [
  {
   "cell_type": "code",
   "execution_count": 1,
   "metadata": {},
   "outputs": [],
   "source": [
    "import matplotlib.pyplot as plt\n",
    "import seaborn as sns\n",
    "import pandas as pd\n",
    "from scipy.stats import mannwhitneyu\n",
    "_ = plt.rc('axes.spines', **{'bottom':True, 'left':True, 'right':False, 'top':False})"
   ]
  },
  {
   "cell_type": "code",
   "execution_count": 18,
   "metadata": {},
   "outputs": [],
   "source": [
    "file = 'summary_results_formated.csv'\n",
    "df = pd.read_csv(file)"
   ]
  },
  {
   "cell_type": "code",
   "execution_count": 19,
   "metadata": {},
   "outputs": [
    {
     "data": {
      "text/html": [
       "<div>\n",
       "<style scoped>\n",
       "    .dataframe tbody tr th:only-of-type {\n",
       "        vertical-align: middle;\n",
       "    }\n",
       "\n",
       "    .dataframe tbody tr th {\n",
       "        vertical-align: top;\n",
       "    }\n",
       "\n",
       "    .dataframe thead th {\n",
       "        text-align: right;\n",
       "    }\n",
       "</style>\n",
       "<table border=\"1\" class=\"dataframe\">\n",
       "  <thead>\n",
       "    <tr style=\"text-align: right;\">\n",
       "      <th></th>\n",
       "      <th>name</th>\n",
       "      <th>public_name</th>\n",
       "      <th>sample</th>\n",
       "      <th>allele</th>\n",
       "      <th>count</th>\n",
       "    </tr>\n",
       "  </thead>\n",
       "  <tbody>\n",
       "    <tr>\n",
       "      <th>0</th>\n",
       "      <td>Y74C9A.3</td>\n",
       "      <td>Y74C9A.3</td>\n",
       "      <td>8-2</td>\n",
       "      <td>N2</td>\n",
       "      <td>1.706341</td>\n",
       "    </tr>\n",
       "    <tr>\n",
       "      <th>1</th>\n",
       "      <td>Y74C9A.3</td>\n",
       "      <td>Y74C9A.3</td>\n",
       "      <td>8-2</td>\n",
       "      <td>CB4856</td>\n",
       "      <td>1.759664</td>\n",
       "    </tr>\n",
       "    <tr>\n",
       "      <th>2</th>\n",
       "      <td>Y74C9A.2</td>\n",
       "      <td>nlp-40</td>\n",
       "      <td>8-2</td>\n",
       "      <td>N2</td>\n",
       "      <td>9.198244</td>\n",
       "    </tr>\n",
       "    <tr>\n",
       "      <th>3</th>\n",
       "      <td>Y74C9A.2</td>\n",
       "      <td>nlp-40</td>\n",
       "      <td>8-2</td>\n",
       "      <td>CB4856</td>\n",
       "      <td>10.557984</td>\n",
       "    </tr>\n",
       "    <tr>\n",
       "      <th>4</th>\n",
       "      <td>Y74C9A.4</td>\n",
       "      <td>Y74C9A.4</td>\n",
       "      <td>8-2</td>\n",
       "      <td>N2</td>\n",
       "      <td>2.719481</td>\n",
       "    </tr>\n",
       "    <tr>\n",
       "      <th>...</th>\n",
       "      <td>...</td>\n",
       "      <td>...</td>\n",
       "      <td>...</td>\n",
       "      <td>...</td>\n",
       "      <td>...</td>\n",
       "    </tr>\n",
       "    <tr>\n",
       "      <th>189403</th>\n",
       "      <td>T23E7.6</td>\n",
       "      <td>T23E7.6</td>\n",
       "      <td>8-5</td>\n",
       "      <td>CB4856</td>\n",
       "      <td>0.000000</td>\n",
       "    </tr>\n",
       "    <tr>\n",
       "      <th>189404</th>\n",
       "      <td>F20B4.6</td>\n",
       "      <td>cgt-2</td>\n",
       "      <td>8-5</td>\n",
       "      <td>N2</td>\n",
       "      <td>0.224384</td>\n",
       "    </tr>\n",
       "    <tr>\n",
       "      <th>189405</th>\n",
       "      <td>F20B4.6</td>\n",
       "      <td>cgt-2</td>\n",
       "      <td>8-5</td>\n",
       "      <td>CB4856</td>\n",
       "      <td>0.096165</td>\n",
       "    </tr>\n",
       "    <tr>\n",
       "      <th>189406</th>\n",
       "      <td>cTel55X.1</td>\n",
       "      <td>cTel55X.1</td>\n",
       "      <td>8-5</td>\n",
       "      <td>N2</td>\n",
       "      <td>1.730963</td>\n",
       "    </tr>\n",
       "    <tr>\n",
       "      <th>189407</th>\n",
       "      <td>cTel55X.1</td>\n",
       "      <td>cTel55X.1</td>\n",
       "      <td>8-5</td>\n",
       "      <td>CB4856</td>\n",
       "      <td>1.570689</td>\n",
       "    </tr>\n",
       "  </tbody>\n",
       "</table>\n",
       "<p>189408 rows × 5 columns</p>\n",
       "</div>"
      ],
      "text/plain": [
       "             name public_name sample  allele      count\n",
       "0        Y74C9A.3    Y74C9A.3    8-2      N2   1.706341\n",
       "1        Y74C9A.3    Y74C9A.3    8-2  CB4856   1.759664\n",
       "2        Y74C9A.2      nlp-40    8-2      N2   9.198244\n",
       "3        Y74C9A.2      nlp-40    8-2  CB4856  10.557984\n",
       "4        Y74C9A.4    Y74C9A.4    8-2      N2   2.719481\n",
       "...           ...         ...    ...     ...        ...\n",
       "189403    T23E7.6     T23E7.6    8-5  CB4856   0.000000\n",
       "189404    F20B4.6       cgt-2    8-5      N2   0.224384\n",
       "189405    F20B4.6       cgt-2    8-5  CB4856   0.096165\n",
       "189406  cTel55X.1   cTel55X.1    8-5      N2   1.730963\n",
       "189407  cTel55X.1   cTel55X.1    8-5  CB4856   1.570689\n",
       "\n",
       "[189408 rows x 5 columns]"
      ]
     },
     "execution_count": 19,
     "metadata": {},
     "output_type": "execute_result"
    }
   ],
   "source": [
    "df"
   ]
  },
  {
   "cell_type": "code",
   "execution_count": 39,
   "metadata": {},
   "outputs": [],
   "source": [
    "order = ['mcm-4','Y39G10AR.15','srbc-64','Y39G10AR.16','ugt-31','nekl-1','sydn-1']\n",
    "order=  ['sydn-1']\n",
    "to_plot = df[df.public_name.isin(order)]"
   ]
  },
  {
   "cell_type": "code",
   "execution_count": 37,
   "metadata": {},
   "outputs": [
    {
     "data": {
      "image/png": "[encoded data removed]",
      "text/plain": [
       "<Figure size 720x360 with 1 Axes>"
      ]
     },
     "metadata": {
      "needs_background": "light"
     },
     "output_type": "display_data"
    }
   ],
   "source": [
    "f, axs = plt.subplots(1,figsize=(10,5))\n",
    "palette ={\"N2\": sns.color_palette()[1], \"CB4856\": sns.color_palette()[0]}\n",
    "_ = sns.swarmplot(x='public_name',y='count',data=to_plot,hue='allele',dodge=True,s=3,color='black',order=order)\n",
    "_ = sns.boxplot(x='public_name',y='count',data=to_plot,hue='allele',order=order, palette=palette)\n",
    "_ = plt.ylabel('allele specific reads per million')\n",
    "_ = plt.xlabel('gene_name')\n",
    "_ = plt.ylim(0,)\n",
    "_ = plt.savefig('varying_starting_freq.svg', dpi=300)"
   ]
  },
  {
   "cell_type": "code",
   "execution_count": 44,
   "metadata": {},
   "outputs": [
    {
     "data": {
      "text/plain": [
       "596       0.346600\n",
       "597       0.453247\n",
       "32164     0.204660\n",
       "32165     0.409320\n",
       "63732     0.274369\n",
       "63733     0.612053\n",
       "95300     0.455401\n",
       "95301     0.579601\n",
       "126868    0.246409\n",
       "126869    0.616022\n",
       "158436    0.192329\n",
       "158437    0.512878\n",
       "Name: count, dtype: float64"
      ]
     },
     "execution_count": 44,
     "metadata": {},
     "output_type": "execute_result"
    }
   ],
   "source": [
    "to_plot['count']\n"
   ]
  },
  {
   "cell_type": "markdown",
   "metadata": {},
   "source": [
    "# now let's do statistical tests\n"
   ]
  },
  {
   "cell_type": "code",
   "execution_count": 23,
   "metadata": {},
   "outputs": [],
   "source": [
    "gene_name_dic = {}\n",
    "for i in range(len(df)):\n",
    "    gene_name,public_name = df.iloc[i,0:2]\n",
    "    if not gene_name in gene_name_dic:\n",
    "        gene_name_dic[gene_name] = public_name\n"
   ]
  },
  {
   "cell_type": "code",
   "execution_count": 20,
   "metadata": {},
   "outputs": [],
   "source": [
    "genes = df.name.unique()"
   ]
  },
  {
   "cell_type": "code",
   "execution_count": 24,
   "metadata": {},
   "outputs": [
    {
     "data": {
      "text/plain": [
       "69"
      ]
     },
     "execution_count": 24,
     "metadata": {},
     "output_type": "execute_result"
    }
   ],
   "source": [
    "output_file = 'ae_statistics.csv'\n",
    "with open(output_file,'w') as output_f:\n",
    "    output_f.write('gene_name,public_name,n2_sum,cb_sum,mannwhitneyu_stat,mannwhitneyu_p\\n')\n",
    "    i=0\n",
    "    for gene in genes:\n",
    "        i += 1\n",
    "#         if i == 10:\n",
    "#             break\n",
    "        subset = df[df.name.isin([gene])]\n",
    "        n2 = subset[subset.allele=='N2']['count']\n",
    "        n2_sum = sum(n2)\n",
    "        cb = subset[subset.allele=='CB4856']['count']\n",
    "        cb_sum = sum(cb)\n",
    "        try:\n",
    "            stat, p = mannwhitneyu(n2, cb)\n",
    "            _ = output_f.write(','.join([gene,gene_name_dic[gene],'{:.2f}'.format(n2_sum),'{:.2f}'.format(cb_sum),'{:.2f}'.format(stat),'{:.10f}'.format(p)]))\n",
    "            \n",
    "        except:\n",
    "            stat, p ='NA','NA'\n",
    "            _ = output_f.write(','.join([gene,gene_name_dic[gene],'{:.2f}'.format(n2_sum),'{:.2f}'.format(cb_sum),stat,p]))\n",
    "        _ = output_f.write('\\n')\n",
    "        \n",
    "        \n",
    "        \n",
    "    \n",
    "    "
   ]
  },
  {
   "cell_type": "code",
   "execution_count": 8,
   "metadata": {},
   "outputs": [
    {
     "name": "stdout",
     "output_type": "stream",
     "text": [
      "Statistics=5.000, p=0.023\n"
     ]
    }
   ],
   "source": [
    "n2 = subset[subset.allele=='N2']['count']\n",
    "cb = subset[subset.allele=='CB4856']['count']\n",
    "stat, p = mannwhitneyu(n2, cb)\n",
    "print('Statistics=%.3f, p=%.3f' % (stat, p))"
   ]
  },
  {
   "cell_type": "markdown",
   "metadata": {},
   "source": [
    "\n",
    "# get the number of differentially expressed genes"
   ]
  },
  {
   "cell_type": "code",
   "execution_count": 27,
   "metadata": {},
   "outputs": [],
   "source": [
    "file = 'ae_statistics.xlsx'\n",
    "ae_statistics_df = pd.read_excel(file)"
   ]
  },
  {
   "cell_type": "code",
   "execution_count": 28,
   "metadata": {
    "scrolled": true
   },
   "outputs": [
    {
     "data": {
      "text/html": [
       "<div>\n",
       "<style scoped>\n",
       "    .dataframe tbody tr th:only-of-type {\n",
       "        vertical-align: middle;\n",
       "    }\n",
       "\n",
       "    .dataframe tbody tr th {\n",
       "        vertical-align: top;\n",
       "    }\n",
       "\n",
       "    .dataframe thead th {\n",
       "        text-align: right;\n",
       "    }\n",
       "</style>\n",
       "<table border=\"1\" class=\"dataframe\">\n",
       "  <thead>\n",
       "    <tr style=\"text-align: right;\">\n",
       "      <th></th>\n",
       "      <th>gene_name</th>\n",
       "      <th>public_name</th>\n",
       "      <th>n2_sum</th>\n",
       "      <th>cb_sum</th>\n",
       "      <th>mannwhitneyu_stat</th>\n",
       "      <th>mannwhitneyu_p</th>\n",
       "    </tr>\n",
       "  </thead>\n",
       "  <tbody>\n",
       "    <tr>\n",
       "      <th>0</th>\n",
       "      <td>Y74C9A.3</td>\n",
       "      <td>Y74C9A.3</td>\n",
       "      <td>9.84</td>\n",
       "      <td>10.28</td>\n",
       "      <td>15.0</td>\n",
       "      <td>0.344460</td>\n",
       "    </tr>\n",
       "    <tr>\n",
       "      <th>1</th>\n",
       "      <td>Y74C9A.2</td>\n",
       "      <td>nlp-40</td>\n",
       "      <td>52.27</td>\n",
       "      <td>61.07</td>\n",
       "      <td>0.0</td>\n",
       "      <td>0.002537</td>\n",
       "    </tr>\n",
       "    <tr>\n",
       "      <th>2</th>\n",
       "      <td>Y74C9A.4</td>\n",
       "      <td>Y74C9A.4</td>\n",
       "      <td>18.90</td>\n",
       "      <td>22.37</td>\n",
       "      <td>5.0</td>\n",
       "      <td>0.022664</td>\n",
       "    </tr>\n",
       "    <tr>\n",
       "      <th>3</th>\n",
       "      <td>Y74C9A.5</td>\n",
       "      <td>sesn-1</td>\n",
       "      <td>0.20</td>\n",
       "      <td>0.03</td>\n",
       "      <td>9.0</td>\n",
       "      <td>0.064536</td>\n",
       "    </tr>\n",
       "    <tr>\n",
       "      <th>4</th>\n",
       "      <td>Y74C9A.1</td>\n",
       "      <td>Y74C9A.1</td>\n",
       "      <td>0.03</td>\n",
       "      <td>0.00</td>\n",
       "      <td>15.0</td>\n",
       "      <td>0.202328</td>\n",
       "    </tr>\n",
       "  </tbody>\n",
       "</table>\n",
       "</div>"
      ],
      "text/plain": [
       "  gene_name public_name  n2_sum  cb_sum  mannwhitneyu_stat  mannwhitneyu_p\n",
       "0  Y74C9A.3    Y74C9A.3    9.84   10.28               15.0        0.344460\n",
       "1  Y74C9A.2      nlp-40   52.27   61.07                0.0        0.002537\n",
       "2  Y74C9A.4    Y74C9A.4   18.90   22.37                5.0        0.022664\n",
       "3  Y74C9A.5      sesn-1    0.20    0.03                9.0        0.064536\n",
       "4  Y74C9A.1    Y74C9A.1    0.03    0.00               15.0        0.202328"
      ]
     },
     "execution_count": 28,
     "metadata": {},
     "output_type": "execute_result"
    }
   ],
   "source": [
    "ae_statistics_df.head()"
   ]
  },
  {
   "cell_type": "markdown",
   "metadata": {},
   "source": [
    "# get the number of differentiallly expressed genes in the divergent region"
   ]
  },
  {
   "cell_type": "code",
   "execution_count": 21,
   "metadata": {},
   "outputs": [],
   "source": [
    "divergent_genes_file = 'Divergent_genes_only.tsv'\n",
    "divergent_genes_df = pd.read_csv(divergent_genes_file, sep='\\t',header=None)\n",
    "divergent_genes = set(divergent_genes_df[0])"
   ]
  },
  {
   "cell_type": "code",
   "execution_count": 22,
   "metadata": {},
   "outputs": [
    {
     "data": {
      "text/html": [
       "<div>\n",
       "<style scoped>\n",
       "    .dataframe tbody tr th:only-of-type {\n",
       "        vertical-align: middle;\n",
       "    }\n",
       "\n",
       "    .dataframe tbody tr th {\n",
       "        vertical-align: top;\n",
       "    }\n",
       "\n",
       "    .dataframe thead th {\n",
       "        text-align: right;\n",
       "    }\n",
       "</style>\n",
       "<table border=\"1\" class=\"dataframe\">\n",
       "  <thead>\n",
       "    <tr style=\"text-align: right;\">\n",
       "      <th></th>\n",
       "      <th>0</th>\n",
       "      <th>1</th>\n",
       "      <th>2</th>\n",
       "    </tr>\n",
       "  </thead>\n",
       "  <tbody>\n",
       "    <tr>\n",
       "      <th>0</th>\n",
       "      <td>WBGene00000001</td>\n",
       "      <td>aap-1</td>\n",
       "      <td>Y110A7A.10</td>\n",
       "    </tr>\n",
       "    <tr>\n",
       "      <th>1</th>\n",
       "      <td>WBGene00000002</td>\n",
       "      <td>aat-1</td>\n",
       "      <td>F27C8.1</td>\n",
       "    </tr>\n",
       "    <tr>\n",
       "      <th>2</th>\n",
       "      <td>WBGene00000003</td>\n",
       "      <td>aat-2</td>\n",
       "      <td>F07C3.7</td>\n",
       "    </tr>\n",
       "    <tr>\n",
       "      <th>3</th>\n",
       "      <td>WBGene00000004</td>\n",
       "      <td>aat-3</td>\n",
       "      <td>F52H2.2</td>\n",
       "    </tr>\n",
       "    <tr>\n",
       "      <th>4</th>\n",
       "      <td>WBGene00000005</td>\n",
       "      <td>aat-4</td>\n",
       "      <td>T13A10.10</td>\n",
       "    </tr>\n",
       "  </tbody>\n",
       "</table>\n",
       "</div>"
      ],
      "text/plain": [
       "                0      1           2\n",
       "0  WBGene00000001  aap-1  Y110A7A.10\n",
       "1  WBGene00000002  aat-1     F27C8.1\n",
       "2  WBGene00000003  aat-2     F07C3.7\n",
       "3  WBGene00000004  aat-3     F52H2.2\n",
       "4  WBGene00000005  aat-4   T13A10.10"
      ]
     },
     "execution_count": 22,
     "metadata": {},
     "output_type": "execute_result"
    }
   ],
   "source": [
    "gene_id_file = 'c_elegans.WS230.geneIDs.txt'\n",
    "gene_ids_df = pd.read_csv(gene_id_file,header=None)\n",
    "gene_ids_df.head()"
   ]
  },
  {
   "cell_type": "code",
   "execution_count": 23,
   "metadata": {},
   "outputs": [],
   "source": [
    "divergent_genes_name = []\n",
    "for i in range(len(gene_ids_df)):\n",
    "    wormbase_id,public_name,gene_name = gene_ids_df.iloc[i,:]\n",
    "    if wormbase_id in divergent_genes:\n",
    "        divergent_genes_name.append(gene_name)"
   ]
  },
  {
   "cell_type": "code",
   "execution_count": 32,
   "metadata": {},
   "outputs": [
    {
     "data": {
      "text/plain": [
       "4659"
      ]
     },
     "execution_count": 32,
     "metadata": {},
     "output_type": "execute_result"
    }
   ],
   "source": [
    "len(divergent_genes_name)"
   ]
  },
  {
   "cell_type": "code",
   "execution_count": 33,
   "metadata": {},
   "outputs": [
    {
     "data": {
      "text/plain": [
       "1905"
      ]
     },
     "execution_count": 33,
     "metadata": {},
     "output_type": "execute_result"
    }
   ],
   "source": [
    "ae_statistics_df_divergent = ae_statistics_df[ae_statistics_df.public_name.isin(divergent_genes_name)]\n",
    "len(ae_statistics_df_divergent)"
   ]
  },
  {
   "cell_type": "code",
   "execution_count": 34,
   "metadata": {},
   "outputs": [
    {
     "data": {
      "text/plain": [
       "15784"
      ]
     },
     "execution_count": 34,
     "metadata": {},
     "output_type": "execute_result"
    }
   ],
   "source": [
    "len(ae_statistics_df)"
   ]
  },
  {
   "cell_type": "code",
   "execution_count": 39,
   "metadata": {},
   "outputs": [
    {
     "data": {
      "text/plain": [
       "3596"
      ]
     },
     "execution_count": 39,
     "metadata": {},
     "output_type": "execute_result"
    },
    {
     "data": {
      "text/plain": [
       "293"
      ]
     },
     "execution_count": 39,
     "metadata": {},
     "output_type": "execute_result"
    }
   ],
   "source": [
    "ae_statistics_df.mannwhitneyu_p.isna().sum()\n",
    "ae_statistics_df_divergent.mannwhitneyu_p.isna().sum()"
   ]
  },
  {
   "cell_type": "code",
   "execution_count": 40,
   "metadata": {},
   "outputs": [
    {
     "data": {
      "text/plain": [
       "3797"
      ]
     },
     "execution_count": 40,
     "metadata": {},
     "output_type": "execute_result"
    },
    {
     "data": {
      "text/plain": [
       "665"
      ]
     },
     "execution_count": 40,
     "metadata": {},
     "output_type": "execute_result"
    }
   ],
   "source": [
    "ae_statistics_df.mannwhitneyu_p.le(0.05).sum()\n",
    "ae_statistics_df_divergent.mannwhitneyu_p.le(0.05).sum()"
   ]
  },
  {
   "cell_type": "code",
   "execution_count": 41,
   "metadata": {},
   "outputs": [
    {
     "data": {
      "text/plain": [
       "2111"
      ]
     },
     "execution_count": 41,
     "metadata": {},
     "output_type": "execute_result"
    },
    {
     "data": {
      "text/plain": [
       "429"
      ]
     },
     "execution_count": 41,
     "metadata": {},
     "output_type": "execute_result"
    }
   ],
   "source": [
    "ae_statistics_df.mannwhitneyu_p.le(0.01).sum()\n",
    "ae_statistics_df_divergent.mannwhitneyu_p.le(0.01).sum()"
   ]
  },
  {
   "cell_type": "code",
   "execution_count": 42,
   "metadata": {},
   "outputs": [
    {
     "data": {
      "text/plain": [
       "0"
      ]
     },
     "execution_count": 42,
     "metadata": {},
     "output_type": "execute_result"
    },
    {
     "data": {
      "text/plain": [
       "0"
      ]
     },
     "execution_count": 42,
     "metadata": {},
     "output_type": "execute_result"
    }
   ],
   "source": [
    "ae_statistics_df.mannwhitneyu_p.le(0.001).sum()\n",
    "ae_statistics_df_divergent.mannwhitneyu_p.le(0.001).sum()"
   ]
  },
  {
   "cell_type": "code",
   "execution_count": null,
   "metadata": {},
   "outputs": [],
   "source": []
  }
 ],
 "metadata": {
  "kernelspec": {
   "display_name": "Python 3",
   "language": "python",
   "name": "python3"
  },
  "language_info": {
   "codemirror_mode": {
    "name": "ipython",
    "version": 3
   },
   "file_extension": ".py",
   "mimetype": "text/x-python",
   "name": "python",
   "nbconvert_exporter": "python",
   "pygments_lexer": "ipython3",
   "version": "3.6.7"
  }
 },
 "nbformat": 4,
 "nbformat_minor": 2
}
